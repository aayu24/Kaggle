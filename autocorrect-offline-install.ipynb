{
 "cells": [
  {
   "cell_type": "code",
   "execution_count": 1,
   "id": "848ce7b7",
   "metadata": {
    "execution": {
     "iopub.execute_input": "2023-10-09T17:23:15.189362Z",
     "iopub.status.busy": "2023-10-09T17:23:15.188986Z",
     "iopub.status.idle": "2023-10-09T17:23:15.199874Z",
     "shell.execute_reply": "2023-10-09T17:23:15.198518Z"
    },
    "papermill": {
     "duration": 0.018453,
     "end_time": "2023-10-09T17:23:15.203504",
     "exception": false,
     "start_time": "2023-10-09T17:23:15.185051",
     "status": "completed"
    },
    "tags": []
   },
   "outputs": [
    {
     "name": "stdout",
     "output_type": "stream",
     "text": [
      "Writing requirements.txt\n"
     ]
    }
   ],
   "source": [
    "%%writefile requirements.txt\n",
    "autocorrect==1.1.0\n",
    "optuna\n",
    "bitsandbytes"
   ]
  },
  {
   "cell_type": "code",
   "execution_count": 2,
   "id": "8a731212",
   "metadata": {
    "execution": {
     "iopub.execute_input": "2023-10-09T17:23:15.211679Z",
     "iopub.status.busy": "2023-10-09T17:23:15.211328Z",
     "iopub.status.idle": "2023-10-09T17:23:24.323997Z",
     "shell.execute_reply": "2023-10-09T17:23:24.322454Z"
    },
    "papermill": {
     "duration": 9.120774,
     "end_time": "2023-10-09T17:23:24.326482",
     "exception": false,
     "start_time": "2023-10-09T17:23:15.205708",
     "status": "completed"
    },
    "tags": []
   },
   "outputs": [
    {
     "name": "stdout",
     "output_type": "stream",
     "text": [
      "Collecting autocorrect==1.1.0 (from -r requirements.txt (line 1))\r\n",
      "  Downloading autocorrect-1.1.0.tar.gz (1.8 MB)\r\n",
      "\u001b[2K     \u001b[90m━━━━━━━━━━━━━━━━━━━━━━━━━━━━━━━━━━━━━━━━\u001b[0m \u001b[32m1.8/1.8 MB\u001b[0m \u001b[31m22.6 MB/s\u001b[0m eta \u001b[36m0:00:00\u001b[0m\r\n",
      "\u001b[?25h  Preparing metadata (setup.py) ... \u001b[?25ldone\r\n",
      "\u001b[?25hCollecting optuna (from -r requirements.txt (line 2))\r\n",
      "  Downloading optuna-3.3.0-py3-none-any.whl (404 kB)\r\n",
      "\u001b[2K     \u001b[90m━━━━━━━━━━━━━━━━━━━━━━━━━━━━━━━━━━━━━━\u001b[0m \u001b[32m404.2/404.2 kB\u001b[0m \u001b[31m24.0 MB/s\u001b[0m eta \u001b[36m0:00:00\u001b[0m\r\n",
      "\u001b[?25hCollecting bitsandbytes (from -r requirements.txt (line 3))\r\n",
      "  Downloading bitsandbytes-0.41.1-py3-none-any.whl (92.6 MB)\r\n",
      "\u001b[2K     \u001b[90m━━━━━━━━━━━━━━━━━━━━━━━━━━━━━━━━━━━━━━━━\u001b[0m \u001b[32m92.6/92.6 MB\u001b[0m \u001b[31m10.3 MB/s\u001b[0m eta \u001b[36m0:00:00\u001b[0m\r\n",
      "\u001b[?25hCollecting alembic>=1.5.0 (from optuna->-r requirements.txt (line 2))\r\n",
      "  Downloading alembic-1.12.0-py3-none-any.whl (226 kB)\r\n",
      "\u001b[2K     \u001b[90m━━━━━━━━━━━━━━━━━━━━━━━━━━━━━━━━━━━━━━\u001b[0m \u001b[32m226.0/226.0 kB\u001b[0m \u001b[31m15.2 MB/s\u001b[0m eta \u001b[36m0:00:00\u001b[0m\r\n",
      "\u001b[?25hCollecting cmaes>=0.10.0 (from optuna->-r requirements.txt (line 2))\r\n",
      "  Downloading cmaes-0.10.0-py3-none-any.whl (29 kB)\r\n",
      "Collecting colorlog (from optuna->-r requirements.txt (line 2))\r\n",
      "  Downloading colorlog-6.7.0-py2.py3-none-any.whl (11 kB)\r\n",
      "Collecting numpy (from optuna->-r requirements.txt (line 2))\r\n",
      "  Downloading numpy-1.26.0-cp310-cp310-manylinux_2_17_x86_64.manylinux2014_x86_64.whl (18.2 MB)\r\n",
      "\u001b[2K     \u001b[90m━━━━━━━━━━━━━━━━━━━━━━━━━━━━━━━━━━━━━━━━\u001b[0m \u001b[32m18.2/18.2 MB\u001b[0m \u001b[31m49.6 MB/s\u001b[0m eta \u001b[36m0:00:00\u001b[0m\r\n",
      "\u001b[?25hCollecting packaging>=20.0 (from optuna->-r requirements.txt (line 2))\r\n",
      "  Downloading packaging-23.2-py3-none-any.whl (53 kB)\r\n",
      "\u001b[2K     \u001b[90m━━━━━━━━━━━━━━━━━━━━━━━━━━━━━━━━━━━━━━━━\u001b[0m \u001b[32m53.0/53.0 kB\u001b[0m \u001b[31m4.1 MB/s\u001b[0m eta \u001b[36m0:00:00\u001b[0m\r\n",
      "\u001b[?25hCollecting sqlalchemy>=1.3.0 (from optuna->-r requirements.txt (line 2))\r\n",
      "  Downloading SQLAlchemy-2.0.21-cp310-cp310-manylinux_2_17_x86_64.manylinux2014_x86_64.whl (3.0 MB)\r\n",
      "\u001b[2K     \u001b[90m━━━━━━━━━━━━━━━━━━━━━━━━━━━━━━━━━━━━━━━━\u001b[0m \u001b[32m3.0/3.0 MB\u001b[0m \u001b[31m54.9 MB/s\u001b[0m eta \u001b[36m0:00:00\u001b[0m\r\n",
      "\u001b[?25hCollecting tqdm (from optuna->-r requirements.txt (line 2))\r\n",
      "  Downloading tqdm-4.66.1-py3-none-any.whl (78 kB)\r\n",
      "\u001b[2K     \u001b[90m━━━━━━━━━━━━━━━━━━━━━━━━━━━━━━━━━━━━━━━━\u001b[0m \u001b[32m78.3/78.3 kB\u001b[0m \u001b[31m6.8 MB/s\u001b[0m eta \u001b[36m0:00:00\u001b[0m\r\n",
      "\u001b[?25hCollecting PyYAML (from optuna->-r requirements.txt (line 2))\r\n",
      "  Downloading PyYAML-6.0.1-cp310-cp310-manylinux_2_17_x86_64.manylinux2014_x86_64.whl (705 kB)\r\n",
      "\u001b[2K     \u001b[90m━━━━━━━━━━━━━━━━━━━━━━━━━━━━━━━━━━━━━━\u001b[0m \u001b[32m705.5/705.5 kB\u001b[0m \u001b[31m34.8 MB/s\u001b[0m eta \u001b[36m0:00:00\u001b[0m\r\n",
      "\u001b[?25hCollecting Mako (from alembic>=1.5.0->optuna->-r requirements.txt (line 2))\r\n",
      "  Downloading Mako-1.2.4-py3-none-any.whl (78 kB)\r\n",
      "\u001b[2K     \u001b[90m━━━━━━━━━━━━━━━━━━━━━━━━━━━━━━━━━━━━━━━━\u001b[0m \u001b[32m78.7/78.7 kB\u001b[0m \u001b[31m6.4 MB/s\u001b[0m eta \u001b[36m0:00:00\u001b[0m\r\n",
      "\u001b[?25hCollecting typing-extensions>=4 (from alembic>=1.5.0->optuna->-r requirements.txt (line 2))\r\n",
      "  Downloading typing_extensions-4.8.0-py3-none-any.whl (31 kB)\r\n",
      "Collecting greenlet!=0.4.17 (from sqlalchemy>=1.3.0->optuna->-r requirements.txt (line 2))\r\n",
      "  Downloading greenlet-3.0.0-cp310-cp310-manylinux_2_24_x86_64.manylinux_2_28_x86_64.whl (612 kB)\r\n",
      "\u001b[2K     \u001b[90m━━━━━━━━━━━━━━━━━━━━━━━━━━━━━━━━━━━━━━\u001b[0m \u001b[32m612.9/612.9 kB\u001b[0m \u001b[31m35.9 MB/s\u001b[0m eta \u001b[36m0:00:00\u001b[0m\r\n",
      "\u001b[?25hCollecting MarkupSafe>=0.9.2 (from Mako->alembic>=1.5.0->optuna->-r requirements.txt (line 2))\r\n",
      "  Downloading MarkupSafe-2.1.3-cp310-cp310-manylinux_2_17_x86_64.manylinux2014_x86_64.whl (25 kB)\r\n",
      "Saved ./autocorrect-1.1.0.tar.gz\r\n",
      "Saved ./optuna-3.3.0-py3-none-any.whl\r\n",
      "Saved ./bitsandbytes-0.41.1-py3-none-any.whl\r\n",
      "Saved ./alembic-1.12.0-py3-none-any.whl\r\n",
      "Saved ./cmaes-0.10.0-py3-none-any.whl\r\n",
      "Saved ./packaging-23.2-py3-none-any.whl\r\n",
      "Saved ./SQLAlchemy-2.0.21-cp310-cp310-manylinux_2_17_x86_64.manylinux2014_x86_64.whl\r\n",
      "Saved ./colorlog-6.7.0-py2.py3-none-any.whl\r\n",
      "Saved ./numpy-1.26.0-cp310-cp310-manylinux_2_17_x86_64.manylinux2014_x86_64.whl\r\n",
      "Saved ./PyYAML-6.0.1-cp310-cp310-manylinux_2_17_x86_64.manylinux2014_x86_64.whl\r\n",
      "Saved ./tqdm-4.66.1-py3-none-any.whl\r\n",
      "Saved ./greenlet-3.0.0-cp310-cp310-manylinux_2_24_x86_64.manylinux_2_28_x86_64.whl\r\n",
      "Saved ./typing_extensions-4.8.0-py3-none-any.whl\r\n",
      "Saved ./Mako-1.2.4-py3-none-any.whl\r\n",
      "Saved ./MarkupSafe-2.1.3-cp310-cp310-manylinux_2_17_x86_64.manylinux2014_x86_64.whl\r\n",
      "Successfully downloaded autocorrect optuna bitsandbytes alembic cmaes packaging sqlalchemy colorlog numpy PyYAML tqdm greenlet typing-extensions Mako MarkupSafe\r\n"
     ]
    }
   ],
   "source": [
    "!python -m pip download --destination-directory . -r requirements.txt"
   ]
  },
  {
   "cell_type": "markdown",
   "id": "2e130fec",
   "metadata": {
    "papermill": {
     "duration": 0.005035,
     "end_time": "2023-10-09T17:23:24.336952",
     "exception": false,
     "start_time": "2023-10-09T17:23:24.331917",
     "status": "completed"
    },
    "tags": []
   },
   "source": [
    "References:\n",
    "1. Awesome post by @CPMP - https://www.kaggle.com/competitions/commonlit-evaluate-student-summaries/discussion/435153"
   ]
  },
  {
   "cell_type": "code",
   "execution_count": null,
   "id": "dbb96cd1",
   "metadata": {
    "papermill": {
     "duration": 0.004991,
     "end_time": "2023-10-09T17:23:24.347384",
     "exception": false,
     "start_time": "2023-10-09T17:23:24.342393",
     "status": "completed"
    },
    "tags": []
   },
   "outputs": [],
   "source": []
  }
 ],
 "metadata": {
  "kernelspec": {
   "display_name": "Python 3",
   "language": "python",
   "name": "python3"
  },
  "language_info": {
   "codemirror_mode": {
    "name": "ipython",
    "version": 3
   },
   "file_extension": ".py",
   "mimetype": "text/x-python",
   "name": "python",
   "nbconvert_exporter": "python",
   "pygments_lexer": "ipython3",
   "version": "3.10.12"
  },
  "papermill": {
   "default_parameters": {},
   "duration": 12.911209,
   "end_time": "2023-10-09T17:23:24.773734",
   "environment_variables": {},
   "exception": null,
   "input_path": "__notebook__.ipynb",
   "output_path": "__notebook__.ipynb",
   "parameters": {},
   "start_time": "2023-10-09T17:23:11.862525",
   "version": "2.4.0"
  }
 },
 "nbformat": 4,
 "nbformat_minor": 5
}
